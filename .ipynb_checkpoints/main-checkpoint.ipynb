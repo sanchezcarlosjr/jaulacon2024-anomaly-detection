{
 "cells": [
  {
   "cell_type": "code",
   "execution_count": null,
   "id": "46f55b23-d3f2-42c8-90a3-36fbcb1c673f",
   "metadata": {},
   "outputs": [],
   "source": [
    "! pip install aeon dataprep scikit-learn"
   ]
  },
  {
   "cell_type": "code",
   "execution_count": 7,
   "id": "8b1524b8-7cc7-4db3-b8c4-ede6d46ec51f",
   "metadata": {},
   "outputs": [],
   "source": [
    "import pandas as pd\n",
    "from sklearn.model_selection import train_test_split\n",
    "from sklearn.preprocessing import StandardScaler\n",
    "from sklearn.linear_model import LogisticRegression\n",
    "from sklearn.metrics import classification_report, accuracy_score\n",
    "from dataprep.datasets import load_dataset\n",
    "from dataprep.eda import create_report"
   ]
  },
  {
   "cell_type": "code",
   "execution_count": null,
   "id": "0d35ba36-cc1a-42e4-a60d-94f333f1d49d",
   "metadata": {},
   "outputs": [],
   "source": []
  }
 ],
 "metadata": {
  "kernelspec": {
   "display_name": "jaulacon",
   "language": "python",
   "name": "jaulacon"
  },
  "language_info": {
   "codemirror_mode": {
    "name": "ipython",
    "version": 3
   },
   "file_extension": ".py",
   "mimetype": "text/x-python",
   "name": "python",
   "nbconvert_exporter": "python",
   "pygments_lexer": "ipython3",
   "version": "3.10.14"
  }
 },
 "nbformat": 4,
 "nbformat_minor": 5
}
